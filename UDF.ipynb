{
  "nbformat": 4,
  "nbformat_minor": 0,
  "metadata": {
    "colab": {
      "provenance": [],
      "authorship_tag": "ABX9TyPNIIh2o0YzpQCCcU/qEqJM",
      "include_colab_link": true
    },
    "kernelspec": {
      "name": "python3",
      "display_name": "Python 3"
    },
    "language_info": {
      "name": "python"
    }
  },
  "cells": [
    {
      "cell_type": "markdown",
      "metadata": {
        "id": "view-in-github",
        "colab_type": "text"
      },
      "source": [
        "<a href=\"https://colab.research.google.com/github/khaledn66/pyspark2/blob/main/UDF.ipynb\" target=\"_parent\"><img src=\"https://colab.research.google.com/assets/colab-badge.svg\" alt=\"Open In Colab\"/></a>"
      ]
    },
    {
      "cell_type": "code",
      "execution_count": null,
      "metadata": {
        "id": "lvwBYyBGKUvr"
      },
      "outputs": [],
      "source": []
    },
    {
      "cell_type": "markdown",
      "source": [
        "**CFREATE UDF  **\n",
        "***1. Create data frame***"
      ],
      "metadata": {
        "id": "LV99ICxzLAu0"
      }
    },
    {
      "cell_type": "code",
      "source": [
        "from pyspark.sql import SparkSession\n",
        "\n",
        "spark = SparkSession.builder.appName('SparkByExamples.com').getOrCreate()\n",
        "\n",
        "columns = [\"NUM\",\"Name\"]\n",
        "data = [(\"1\", \"john jones\"),\n",
        "    (\"2\", \"tracey smith\"),\n",
        "    (\"3\", \"amy sanders\")]\n",
        "\n",
        "df = spark.createDataFrame(data=data,schema=columns)\n",
        "\n",
        "df.show(truncate=False)"
      ],
      "metadata": {
        "colab": {
          "base_uri": "https://localhost:8080/"
        },
        "id": "ZePl7-qeLQuN",
        "outputId": "cae8ed23-a9b3-41a9-b6d6-00977560d515"
      },
      "execution_count": 2,
      "outputs": [
        {
          "output_type": "stream",
          "name": "stdout",
          "text": [
            "+---+------------+\n",
            "|NUM|Name        |\n",
            "+---+------------+\n",
            "|1  |john jones  |\n",
            "|2  |tracey smith|\n",
            "|3  |amy sanders |\n",
            "+---+------------+\n",
            "\n"
          ]
        }
      ]
    },
    {
      "cell_type": "markdown",
      "source": [
        "**2.2 Create a Python Function**"
      ],
      "metadata": {
        "id": "-WqWDrXbL9Lf"
      }
    },
    {
      "cell_type": "markdown",
      "source": [],
      "metadata": {
        "id": "w9Hfc-s1MtPI"
      }
    },
    {
      "cell_type": "markdown",
      "source": [
        "split  function in python"
      ],
      "metadata": {
        "id": "vrtLdaUtMziF"
      }
    },
    {
      "cell_type": "code",
      "source": [
        "text = \"apple,banana,cherry\"\n",
        "result = text.split(',')\n",
        "print(result) # Output: ['apple', 'banana', 'cherry']"
      ],
      "metadata": {
        "colab": {
          "base_uri": "https://localhost:8080/"
        },
        "id": "VIne1879Mguj",
        "outputId": "7ecb71ac-7988-4def-9350-5b0f1a710f5b"
      },
      "execution_count": 3,
      "outputs": [
        {
          "output_type": "stream",
          "name": "stdout",
          "text": [
            "['apple', 'banana', 'cherry']\n"
          ]
        }
      ]
    },
    {
      "cell_type": "code",
      "source": [
        "def convertCase(str):\n",
        "    resStr=\" \"\n",
        "    arr = str.split(\" \")\n",
        "    for x in arr:\n",
        "       resStr= resStr + x[0:1].upper() + x[1:len(x)] + \" \"\n",
        "    return resStr\n",
        ""
      ],
      "metadata": {
        "id": "jPTeaxJVMArd"
      },
      "execution_count": 13,
      "outputs": []
    },
    {
      "cell_type": "code",
      "source": [
        "print(convertCase(\"hello baby\"))"
      ],
      "metadata": {
        "colab": {
          "base_uri": "https://localhost:8080/"
        },
        "id": "Vg4BdaQFNYcz",
        "outputId": "5158cf0f-8cd4-43dd-da18-3a84d2bd27c2"
      },
      "execution_count": 15,
      "outputs": [
        {
          "output_type": "stream",
          "name": "stdout",
          "text": [
            " Hello Baby \n"
          ]
        }
      ]
    },
    {
      "cell_type": "markdown",
      "source": [
        "**2.3 Convert a Python function to PySpark UDF**"
      ],
      "metadata": {
        "id": "VDy6Zby4QKhm"
      }
    },
    {
      "cell_type": "code",
      "source": [
        "from pyspark.sql.functions import col, udf\n",
        "from pyspark.sql.types import StringType\n",
        "\n",
        "# Converting function to UDF\n",
        "convertUDF = udf(lambda z: convertCase(z),StringType())"
      ],
      "metadata": {
        "id": "zC0vigIAMfE-"
      },
      "execution_count": 16,
      "outputs": []
    },
    {
      "cell_type": "markdown",
      "source": [],
      "metadata": {
        "id": "Z1SleQgESP0s"
      }
    },
    {
      "cell_type": "code",
      "source": [],
      "metadata": {
        "id": "Y8sWW_udSR7B"
      },
      "execution_count": null,
      "outputs": []
    },
    {
      "cell_type": "markdown",
      "source": [
        "**3. Using UDF with DataFrame**"
      ],
      "metadata": {
        "id": "wGufjo6-Qldg"
      }
    },
    {
      "cell_type": "code",
      "source": [],
      "metadata": {
        "id": "A6io-3U-QoBR"
      },
      "execution_count": null,
      "outputs": []
    },
    {
      "cell_type": "markdown",
      "source": [
        "3.1 Using UDF with PySpark DataFrame select()**Текст,"
      ],
      "metadata": {
        "id": "KJWyix6sQve1"
      }
    },
    {
      "cell_type": "code",
      "source": [
        "df.select(col(\"NUM\"), \\\n",
        "    convertUDF(col(\"Name\")).alias(\"Name\") ) \\\n",
        "   .show(truncate=False)"
      ],
      "metadata": {
        "colab": {
          "base_uri": "https://localhost:8080/"
        },
        "id": "qccGlG9FQ13T",
        "outputId": "b60064ee-c8cc-4ce6-dccd-acbdddf1088b"
      },
      "execution_count": 17,
      "outputs": [
        {
          "output_type": "stream",
          "name": "stdout",
          "text": [
            "+---+--------------+\n",
            "|NUM|Name          |\n",
            "+---+--------------+\n",
            "|1  | John Jones   |\n",
            "|2  | Tracey Smith |\n",
            "|3  | Amy Sanders  |\n",
            "+---+--------------+\n",
            "\n"
          ]
        }
      ]
    },
    {
      "cell_type": "markdown",
      "source": [
        "**3.2 Using UDF with PySpark DataFrame withColumn()**"
      ],
      "metadata": {
        "id": "M_D5xhOiSXd6"
      }
    },
    {
      "cell_type": "code",
      "source": [
        "def upperCase(str):\n",
        "    return str.upper()"
      ],
      "metadata": {
        "id": "zuwbIz3RSaf4"
      },
      "execution_count": 19,
      "outputs": []
    },
    {
      "cell_type": "code",
      "source": [
        "upperCaseUDF = udf(lambda z:upperCase(z),StringType())\n",
        "\n",
        "df.withColumn(\"Cureated Name\", upperCaseUDF(col(\"Name\"))) \\\n",
        "  .show(truncate=False)"
      ],
      "metadata": {
        "colab": {
          "base_uri": "https://localhost:8080/"
        },
        "id": "13kX4ULVSoft",
        "outputId": "112ffc5b-8494-4ef6-808d-421d252a075a"
      },
      "execution_count": 20,
      "outputs": [
        {
          "output_type": "stream",
          "name": "stdout",
          "text": [
            "+---+------------+-------------+\n",
            "|NUM|Name        |Cureated Name|\n",
            "+---+------------+-------------+\n",
            "|1  |john jones  |JOHN JONES   |\n",
            "|2  |tracey smith|TRACEY SMITH |\n",
            "|3  |amy sanders |AMY SANDERS  |\n",
            "+---+------------+-------------+\n",
            "\n"
          ]
        }
      ]
    },
    {
      "cell_type": "markdown",
      "source": [
        "**3.3 Registering PySpark UDF & use it on SQL**"
      ],
      "metadata": {
        "id": "zpQef1o9gdCg"
      }
    },
    {
      "cell_type": "code",
      "source": [
        "\"\"\" Using UDF on SQL \"\"\"\n",
        "spark.udf.register(\"convertUDF\", convertCase,StringType())\n",
        "df.createOrReplaceTempView(\"NAME_TABLE\")\n",
        "spark.sql(\"select NUM, convertUDF(Name) as Name from NAME_TABLE\") \\\n",
        "     .show(truncate=False)"
      ],
      "metadata": {
        "colab": {
          "base_uri": "https://localhost:8080/"
        },
        "id": "ZtJpeMaCgg8J",
        "outputId": "cd420289-c3df-43cf-f1b3-74e24c476869"
      },
      "execution_count": 22,
      "outputs": [
        {
          "output_type": "stream",
          "name": "stdout",
          "text": [
            "+---+--------------+\n",
            "|NUM|Name          |\n",
            "+---+--------------+\n",
            "|1  | John Jones   |\n",
            "|2  | Tracey Smith |\n",
            "|3  | Amy Sanders  |\n",
            "+---+--------------+\n",
            "\n"
          ]
        }
      ]
    },
    {
      "cell_type": "markdown",
      "source": [
        "**4. Creating UDF using annotation**"
      ],
      "metadata": {
        "id": "nlo4WIvVl1y1"
      }
    },
    {
      "cell_type": "code",
      "source": [
        "@udf(returnType=StringType())\n",
        "def upperCase(str):\n",
        "    return str.upper()\n",
        "\n",
        "df.withColumn(\"Cureated Name\", upperCase(col(\"Name\"))) \\\n",
        ".show(truncate=False)"
      ],
      "metadata": {
        "colab": {
          "base_uri": "https://localhost:8080/"
        },
        "id": "QqrzVpeAl4GY",
        "outputId": "9a004f5c-0141-4284-b1fe-79362e97bca0"
      },
      "execution_count": 23,
      "outputs": [
        {
          "output_type": "stream",
          "name": "stdout",
          "text": [
            "+---+------------+-------------+\n",
            "|NUM|Name        |Cureated Name|\n",
            "+---+------------+-------------+\n",
            "|1  |john jones  |JOHN JONES   |\n",
            "|2  |tracey smith|TRACEY SMITH |\n",
            "|3  |amy sanders |AMY SANDERS  |\n",
            "+---+------------+-------------+\n",
            "\n"
          ]
        }
      ]
    },
    {
      "cell_type": "markdown",
      "source": [
        "5. Special Handling\n",
        "5.1 Execution order **Текст, выделенный полужирным шрифтом**"
      ],
      "metadata": {
        "id": "Fw7LIPF-msqz"
      }
    },
    {
      "cell_type": "code",
      "source": [
        "\"\"\"\n",
        "No guarantee Name is not null will execute first\n",
        "If convertUDF(Name) like '%John%' execute first then\n",
        "you will get runtime error\n",
        "\"\"\"\n",
        "spark.sql(\"select NUM, convertUDF(Name) as Name from NAME_TABLE \" \\\n",
        "          +\"where Name is not null and convertUDF(Name) like '%John%'\") \\\n",
        "     .show(truncate=False)"
      ],
      "metadata": {
        "colab": {
          "base_uri": "https://localhost:8080/"
        },
        "id": "-OINRUIXmwnw",
        "outputId": "f554bd22-d745-41eb-ec32-1c2de3c379ae"
      },
      "execution_count": 32,
      "outputs": [
        {
          "output_type": "stream",
          "name": "stdout",
          "text": [
            "+---+------------+\n",
            "|NUM|Name        |\n",
            "+---+------------+\n",
            "|1  | John Jones |\n",
            "+---+------------+\n",
            "\n"
          ]
        }
      ]
    },
    {
      "cell_type": "markdown",
      "source": [
        "**Complete PySpark UDF Example**"
      ],
      "metadata": {
        "id": "M76nLnWrxV7_"
      }
    },
    {
      "cell_type": "code",
      "source": [
        "import pyspark\n",
        "from pyspark.sql import SparkSession\n",
        "from pyspark.sql.functions import col, udf\n",
        "from pyspark.sql.types import StringType\n",
        "\n",
        "spark = SparkSession.builder.appName('SparkByExamples.com').getOrCreate()\n",
        "\n",
        "columns = [\"Seqno\",\"Name\"]\n",
        "data = [(\"1\", \"john jones\"),\n",
        "    (\"2\", \"tracey smith\"),\n",
        "    (\"3\", \"amy sanders\")]\n",
        "\n",
        "df = spark.createDataFrame(data=data,schema=columns)\n",
        "\n",
        "df.show(truncate=False)\n",
        "\n",
        "def convertCase(str):\n",
        "    resStr=\"\"\n",
        "    arr = str.split(\" \")\n",
        "    for x in arr:\n",
        "       resStr= resStr + x[0:1].upper() + x[1:len(x)] + \" \"\n",
        "    return resStr\n",
        "\n",
        "\"\"\" Converting function to UDF \"\"\"\n",
        "convertUDF = udf(lambda z: convertCase(z))\n",
        "\n",
        "df.select(col(\"Seqno\"), \\\n",
        "    convertUDF(col(\"Name\")).alias(\"Name\") ) \\\n",
        ".show(truncate=False)\n",
        "\n",
        "def upperCase(str):\n",
        "    return str.upper()\n",
        "\n",
        "upperCaseUDF = udf(lambda z:upperCase(z),StringType())\n",
        "\n",
        "df.withColumn(\"Cureated Name\", upperCaseUDF(col(\"Name\"))) \\\n",
        ".show(truncate=False)\n",
        "\n",
        "\"\"\" Using UDF on SQL \"\"\"\n",
        "spark.udf.register(\"convertUDF\", convertCase,StringType())\n",
        "df.createOrReplaceTempView(\"NAME_TABLE\")\n",
        "spark.sql(\"select Seqno, convertUDF(Name) as Name from NAME_TABLE\") \\\n",
        "     .show(truncate=False)\n",
        "\n",
        "spark.sql(\"select Seqno, convertUDF(Name) as Name from NAME_TABLE \" + \\\n",
        "          \"where Name is not null and convertUDF(Name) like '%John%'\") \\\n",
        "     .show(truncate=False)\n",
        "\n",
        "\"\"\" null check \"\"\"\n",
        "\n",
        "columns = [\"Seqno\",\"Name\"]\n",
        "data = [(\"1\", \"john jones\"),\n",
        "    (\"2\", \"tracey smith\"),\n",
        "    (\"3\", \"amy sanders\"),\n",
        "    ('4',None)]\n",
        "\n",
        "df2 = spark.createDataFrame(data=data,schema=columns)\n",
        "df2.show(truncate=False)\n",
        "df2.createOrReplaceTempView(\"NAME_TABLE2\")\n",
        "\n",
        "spark.udf.register(\"_nullsafeUDF\", lambda str: convertCase(str) if not str is None else \"\" , StringType())\n",
        "\n",
        "spark.sql(\"select _nullsafeUDF(Name) from NAME_TABLE2\") \\\n",
        "     .show(truncate=False)\n",
        "\n",
        "spark.sql(\"select Seqno, _nullsafeUDF(Name) as Name from NAME_TABLE2 \" + \\\n",
        "          \" where Name is not null and _nullsafeUDF(Name) like '%John%'\") \\\n",
        "     .show(truncate=False)"
      ],
      "metadata": {
        "colab": {
          "base_uri": "https://localhost:8080/"
        },
        "id": "G2T4-bCkxYgg",
        "outputId": "3b7782f0-b215-4572-a08c-450b7f42944a"
      },
      "execution_count": 33,
      "outputs": [
        {
          "output_type": "stream",
          "name": "stdout",
          "text": [
            "+-----+------------+\n",
            "|Seqno|Name        |\n",
            "+-----+------------+\n",
            "|1    |john jones  |\n",
            "|2    |tracey smith|\n",
            "|3    |amy sanders |\n",
            "+-----+------------+\n",
            "\n",
            "+-----+-------------+\n",
            "|Seqno|Name         |\n",
            "+-----+-------------+\n",
            "|1    |John Jones   |\n",
            "|2    |Tracey Smith |\n",
            "|3    |Amy Sanders  |\n",
            "+-----+-------------+\n",
            "\n",
            "+-----+------------+-------------+\n",
            "|Seqno|Name        |Cureated Name|\n",
            "+-----+------------+-------------+\n",
            "|1    |john jones  |JOHN JONES   |\n",
            "|2    |tracey smith|TRACEY SMITH |\n",
            "|3    |amy sanders |AMY SANDERS  |\n",
            "+-----+------------+-------------+\n",
            "\n",
            "+-----+-------------+\n",
            "|Seqno|Name         |\n",
            "+-----+-------------+\n",
            "|1    |John Jones   |\n",
            "|2    |Tracey Smith |\n",
            "|3    |Amy Sanders  |\n",
            "+-----+-------------+\n",
            "\n",
            "+-----+-----------+\n",
            "|Seqno|Name       |\n",
            "+-----+-----------+\n",
            "|1    |John Jones |\n",
            "+-----+-----------+\n",
            "\n",
            "+-----+------------+\n",
            "|Seqno|Name        |\n",
            "+-----+------------+\n",
            "|1    |john jones  |\n",
            "|2    |tracey smith|\n",
            "|3    |amy sanders |\n",
            "|4    |NULL        |\n",
            "+-----+------------+\n",
            "\n",
            "+------------------+\n",
            "|_nullsafeUDF(Name)|\n",
            "+------------------+\n",
            "|John Jones        |\n",
            "|Tracey Smith      |\n",
            "|Amy Sanders       |\n",
            "|                  |\n",
            "+------------------+\n",
            "\n",
            "+-----+-----------+\n",
            "|Seqno|Name       |\n",
            "+-----+-----------+\n",
            "|1    |John Jones |\n",
            "+-----+-----------+\n",
            "\n"
          ]
        }
      ]
    }
  ]
}